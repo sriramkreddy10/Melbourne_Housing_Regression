{
 "cells": [
  {
   "cell_type": "markdown",
   "metadata": {},
   "source": [
    "# <font color='red'> Melbourne Housing Dataset\n",
    "\n",
    "Project Description:\n",
    "\n",
    "- Perform Regression analysis on the Melbourn housing dataset by building a suitable model.\n",
    "\n",
    "Regression Task:\n",
    "\n",
    "-  Build all basic Regression models\n",
    "- Build any two models with bagging and any two models with pasting.\n",
    "- Build any two models with adaboost boosting\n",
    "- Build one model with gradient boosting\n",
    "- Build PCA on data and then apply all the models in built in the first step again on data you get from PCA. Compare your results with results for models with PCA and without PCA. prepare table for all the models before and after PCA and compare both tables. Does PCA help in getting better results?\n",
    "- Apply deep learning models\n"
   ]
  }
 ],
 "metadata": {
  "kernelspec": {
   "display_name": "Python 3",
   "language": "python",
   "name": "python3"
  },
  "language_info": {
   "codemirror_mode": {
    "name": "ipython",
    "version": 3
   },
   "file_extension": ".py",
   "mimetype": "text/x-python",
   "name": "python",
   "nbconvert_exporter": "python",
   "pygments_lexer": "ipython3",
   "version": "3.7.4"
  }
 },
 "nbformat": 4,
 "nbformat_minor": 2
}
